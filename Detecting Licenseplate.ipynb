{
 "cells": [
  {
   "cell_type": "code",
   "execution_count": 1,
   "metadata": {},
   "outputs": [],
   "source": [
    "import numpy as np\n",
    "import cv2\n",
    "import imutils\n",
    "import pandas as pd\n",
    "import time\n",
    "import matplotlib.pyplot as plt \n",
    "import pytesseract"
   ]
  },
  {
   "cell_type": "code",
   "execution_count": 2,
   "metadata": {},
   "outputs": [],
   "source": [
    "def resize_image(img):\n",
    "    img = cv2.resize(img, None, fx=3, fy=3, interpolation=cv2.INTER_CUBIC)\n",
    "    return img"
   ]
  },
  {
   "cell_type": "code",
   "execution_count": 3,
   "metadata": {},
   "outputs": [],
   "source": [
    "def show_image(img):\n",
    "    cv2.imshow(\"image window\",img)\n",
    "    cv2.waitKey(0)\n",
    "    cv2.destroyAllWindows()\n",
    "    return 'Imaged displayed successfully'"
   ]
  },
  {
   "cell_type": "code",
   "execution_count": 4,
   "metadata": {},
   "outputs": [],
   "source": [
    "def detecting_licenseplate(image):\n",
    "    image = imutils.resize(image, width=500)\n",
    "    # cv2.imshow(\"Original Image\", image)\n",
    "    # cv2.waitKey(0)\n",
    "    \n",
    "    gray = cv2.cvtColor(image, cv2.COLOR_BGR2GRAY)\n",
    "    # cv2.imshow(\"1 - Grayscale Conversion\", gray)\n",
    "\n",
    "    gray = cv2.bilateralFilter(gray, 11, 17, 17)\n",
    "    # cv2.imshow(\"2 - Bilateral Filter\", gray)\n",
    "\n",
    "    edged = cv2.Canny(gray, 170, 200)\n",
    "    # cv2.imshow(\"4 - Canny Edges\", edged)\n",
    "    # ret,thresh = cv2.threshold(edged.copy(),127,255,0)\n",
    "    #print(len(cv2.findContours(edged.copy(), cv2.RETR_LIST, cv2.CHAIN_APPROX_SIMPLE)))\n",
    "\n",
    "    cnts,hierarchy  = cv2.findContours(edged.copy(), cv2.RETR_LIST, cv2.CHAIN_APPROX_SIMPLE)\n",
    "    cnts=sorted(cnts, key = cv2.contourArea, reverse = True)[:30]\n",
    "    NumberPlateCnt = None\n",
    "\n",
    "    count = 0\n",
    "    for c in cnts:\n",
    "            peri = cv2.arcLength(c, True)\n",
    "            approx = cv2.approxPolyDP(c, 0.02 * peri, True)\n",
    "            if len(approx) == 4:\n",
    "                NumberPlateCnt = approx\n",
    "                # cv2.imshow('NumberPlateCnt',NumberPlateCnt)\n",
    "                # cv2.waitKey(0)\n",
    "                break\n",
    "\n",
    "    # Masking the part other than the number plate\n",
    "    mask = np.zeros(gray.shape,np.uint8)\n",
    "    new_image = cv2.drawContours(mask,[NumberPlateCnt],0,255,-1)\n",
    "    new_image = cv2.bitwise_and(image,image,mask=mask)\n",
    "#     cv2.namedWindow(\"Final_image\",cv2.WINDOW_NORMAL)\n",
    "    #croping numberplate \n",
    "#     show_image(new_image)\n",
    "#     new_image = cv2.cvtColor(new_image, cv2.COLOR_BGR2GRAY)\n",
    "#     new_image = cv2.threshold(new_image, 0, 255, cv2.THRESH_BINARY + cv2.THRESH_OTSU)[1]\n",
    "    img_numberplate = np.where(new_image>0.8)\n",
    "    last_index, = img_numberplate[0].shape\n",
    "    x1,y1 = img_numberplate[1].min(),img_numberplate[0].min()\n",
    "    x2,y2 = img_numberplate[1].max(),img_numberplate[0].max()\n",
    "#     print(\"x1 = \"+str(x1)+\"x2 = \"+str(x2)+\"y1 = \"+str(y1)+\"y2 = \"+str(y2))\n",
    "    new_image = new_image[y1:y2,x1:x2]\n",
    "#     show_image(new_image)\n",
    "    return new_image"
   ]
  },
  {
   "cell_type": "code",
   "execution_count": 5,
   "metadata": {},
   "outputs": [],
   "source": [
    "def image_cleaning(img):\n",
    "    img = cv2.cvtColor(img, cv2.COLOR_BGR2GRAY)\n",
    "    kernel = np.ones((1, 1), np.uint8)\n",
    "    img = cv2.erode(img, kernel, iterations=500)\n",
    "    img = cv2.dilate(img, kernel, iterations=1)\n",
    "    img = cv2.GaussianBlur(img, (3, 3), 1)\n",
    "    img = cv2.threshold(img, 0, 255, cv2.THRESH_BINARY + cv2.THRESH_OTSU)[1]\n",
    "    return img"
   ]
  },
  {
   "cell_type": "code",
   "execution_count": 6,
   "metadata": {},
   "outputs": [],
   "source": [
    "def reading_licenseplate(img):\n",
    "    config = ('-l eng --oem 1 --psm 3')\n",
    "    license_number = pytesseract.image_to_string(img, config=config)\n",
    "    return license_number"
   ]
  },
  {
   "cell_type": "code",
   "execution_count": 7,
   "metadata": {},
   "outputs": [],
   "source": [
    "def saving_image(img,name):\n",
    "    cv2.imwrite(name,img)\n",
    "    print('Imaged saved.')\n",
    "    return True"
   ]
  },
  {
   "cell_type": "code",
   "execution_count": 8,
   "metadata": {},
   "outputs": [],
   "source": [
    "# C:\\Users\\KARAN KALRA\\PycharmProjects\\FirstProject\\Yolo\\alot_number.jpg"
   ]
  },
  {
   "cell_type": "code",
   "execution_count": 11,
   "metadata": {},
   "outputs": [
    {
     "name": "stdout",
     "output_type": "stream",
     "text": [
      "MH 20 E7597\n"
     ]
    }
   ],
   "source": [
    "path_of_image = 'G:/LPR Project/Labled data/34.jpeg'\n",
    "license_number = \"\"\n",
    "try:\n",
    "    img = cv2.imread(path_of_image)\n",
    "#         show_image(img)\n",
    "    img = detecting_licenseplate(img)\n",
    "#     plt.imshow(img)\n",
    "#         print(\"shape : \"+str(img.shape))\n",
    "    img = resize_image(img)\n",
    "    img = image_cleaning(img)\n",
    "    license_number = reading_licenseplate(img)\n",
    "#         arr[x] = license_number\n",
    "except Exception as err:\n",
    "    pass\n",
    "\n",
    "print(license_number)"
   ]
  },
  {
   "cell_type": "code",
   "execution_count": null,
   "metadata": {},
   "outputs": [],
   "source": []
  },
  {
   "cell_type": "code",
   "execution_count": null,
   "metadata": {},
   "outputs": [],
   "source": []
  },
  {
   "cell_type": "code",
   "execution_count": null,
   "metadata": {},
   "outputs": [],
   "source": []
  }
 ],
 "metadata": {
  "kernelspec": {
   "display_name": "Python 3",
   "language": "python",
   "name": "python3"
  },
  "language_info": {
   "codemirror_mode": {
    "name": "ipython",
    "version": 3
   },
   "file_extension": ".py",
   "mimetype": "text/x-python",
   "name": "python",
   "nbconvert_exporter": "python",
   "pygments_lexer": "ipython3",
   "version": "3.7.1"
  }
 },
 "nbformat": 4,
 "nbformat_minor": 2
}
