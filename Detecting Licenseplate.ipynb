{
 "cells": [
  {
   "cell_type": "code",
   "execution_count": 14,
   "metadata": {},
   "outputs": [],
   "source": [
    "import numpy as np\n",
    "import cv2\n",
    "import imutils\n",
    "import pandas as pd\n",
    "import time\n",
    "import matplotlib.pyplot as plt \n",
    "import pytesseract\n",
    "from numpy import unravel_index"
   ]
  },
  {
   "cell_type": "code",
   "execution_count": 15,
   "metadata": {},
   "outputs": [],
   "source": [
    "\n",
    "def resize_image(img):\n",
    "    img = cv2.resize(img, None, fx=3, fy=3, interpolation=cv2.INTER_CUBIC)\n",
    "    return img"
   ]
  },
  {
   "cell_type": "code",
   "execution_count": 16,
   "metadata": {},
   "outputs": [],
   "source": [
    "def show_image(img):\n",
    "    cv2.imshow(\"image window\",img)\n",
    "    cv2.waitKey(0)\n",
    "    cv2.destroyAllWindows()\n",
    "    return 'Imaged displayed successfully'"
   ]
  },
  {
   "cell_type": "code",
   "execution_count": 53,
   "metadata": {},
   "outputs": [],
   "source": [
    "def detecting_licenseplate(image):\n",
    "    image = imutils.resize(image, width=500)\n",
    "#     show_image(image)    \n",
    "    gray = cv2.cvtColor(image, cv2.COLOR_BGR2GRAY)\n",
    "    gray = cv2.bilateralFilter(gray, 11, 17, 17)\n",
    "#     show_image(gray)\n",
    "    \n",
    "    edged = cv2.Canny(gray, 170, 200)\n",
    "    # ret,thresh = cv2.threshold(edged.copy(),127,255,0)\n",
    "    #print(len(cv2.findContours(edged.copy(), cv2.RETR_LIST, cv2.CHAIN_APPROX_SIMPLE)))\n",
    "\n",
    "    cnts,hierarchy = cv2.findContours(edged.copy(), cv2.RETR_LIST, cv2.CHAIN_APPROX_SIMPLE)\n",
    "#     show_image(img)\n",
    "    cnts=sorted(cnts, key = cv2.contourArea, reverse = True)[:30]\n",
    "    NumberPlateCnt = None\n",
    "    count = 0\n",
    "    print(len(cnts))\n",
    "#     for c in cnts:\n",
    "# #             show_image(c)\n",
    "#             peri = cv2.arcLength(c, True)\n",
    "#             approx = cv2.approxPolyDP(c, 0.02 * peri, True)\n",
    "#             mask = np.zeros(gray.shape,np.uint8)\n",
    "#             newww_image = cv2.drawContours(mask,[approx],0,255,-1)\n",
    "#             show_image(newww_image)\n",
    "# #             show_image(approx)\n",
    "#             if len(approx) == 4:\n",
    "#                 NumberPlateCnt = approx\n",
    "#                 print(NumberPlateCnt.shape)\n",
    "#                 break\n",
    "    peri = cv2.arcLength(cnts[1], True)\n",
    "    approx = cv2.approxPolyDP(cnts[1], 0.02 * peri, True)\n",
    "    NumberPlateCnt = approx\n",
    "    print(\"orignal cnts \",NumberPlateCnt)\n",
    "    ymax = np.max(NumberPlateCnt.reshape(4,2)[:,1])\n",
    "    ymin = np.min(NumberPlateCnt.reshape(4,2)[:,1])\n",
    "    xmax = np.max(NumberPlateCnt.reshape(4,2)[:,0])\n",
    "    xmin = np.min(NumberPlateCnt.reshape(4,2)[:,0])\n",
    "#     NumberPlateCnt[ymax] = NumberPlateCnt[ymax]+5\n",
    "    ymax_indx  = index=np.where(NumberPlateCnt[:,:,:]==ymax)\n",
    "    print(\"ymax_indx \",ymax_indx)\n",
    "    ymax_indx = ymax_indx[0][0],ymax_indx[1][0],ymax_indx[2][0]\n",
    "    xmax_indx  = index=np.where(NumberPlateCnt[:,:,:]==xmax)\n",
    "    xmax_indx = xmax_indx[0][0],xmax_indx[1][0],xmax_indx[2][0]\n",
    "    ymin_indx  = index=np.where(NumberPlateCnt[:,:,:]==ymin)\n",
    "    ymin_indx = ymin_indx[0][0],ymin_indx[1][0],ymin_indx[2][0]\n",
    "    xmin_indx  = index=np.where(NumberPlateCnt[:,:,:]==xmin)\n",
    "    xmin_indx = xmin_indx[0][0],xmin_indx[1][0],xmin_indx[2][0]\n",
    "    NumberPlateCnt[ymax_indx] = NumberPlateCnt[ymax_indx]+10\n",
    "    NumberPlateCnt[xmax_indx] = NumberPlateCnt[xmax_indx]+10\n",
    "    NumberPlateCnt[ymin_indx] = NumberPlateCnt[ymin_indx]-10\n",
    "    NumberPlateCnt[xmin_indx] = NumberPlateCnt[xmin_indx]-10\n",
    "    print(\"changed snts \",NumberPlateCnt)\n",
    "    print(NumberPlateCnt)\n",
    "    \n",
    "#     Masking the part other than the number plate\n",
    "    mask = np.zeros(gray.shape,np.uint8)\n",
    "    new_image = cv2.drawContours(mask,[NumberPlateCnt],0,255,-1)\n",
    "    show_image(new_image)\n",
    "    new_image = cv2.bitwise_and(image,image,mask=mask)\n",
    "#     show_image(new_image)\n",
    "#     cv2.namedWindow(\"Final_image\",cv2.WINDOW_NORMAL)\n",
    "    #croping numberplate \n",
    "#     show_image(new_image)\n",
    "#     new_image = cv2.cvtColor(new_image, cv2.COLOR_BGR2GRAY)\n",
    "#     new_image = cv2.threshold(new_image, 0, 255, cv2.THRESH_BINARY + cv2.THRESH_OTSU)[1]\n",
    "    img_numberplate = np.where(new_image>0.8)\n",
    "    last_index, = img_numberplate[0].shape\n",
    "    x1,y1 = img_numberplate[1].min(),img_numberplate[0].min()\n",
    "    x2,y2 = img_numberplate[1].max(),img_numberplate[0].max()\n",
    "#     print(\"x1 = \"+str(x1)+\"x2 = \"+str(x2)+\"y1 = \"+str(y1)+\"y2 = \"+str(y2))\n",
    "    new_image = new_image[y1:y2,x1:x2]\n",
    "#     show_image(new_image)\n",
    "    return new_image#image[y1-10:y2+10,x1-10:x2+10]"
   ]
  },
  {
   "cell_type": "code",
   "execution_count": 18,
   "metadata": {},
   "outputs": [],
   "source": [
    "def image_cleaning(img):\n",
    "    img = cv2.cvtColor(img, cv2.COLOR_BGR2GRAY)\n",
    "    kernel = np.ones((1, 1), np.uint8)\n",
    "    img = cv2.erode(img, kernel, iterations=500)\n",
    "    img = cv2.dilate(img, kernel, iterations=1)\n",
    "    img = cv2.GaussianBlur(img, (3, 3), 1)\n",
    "    img = cv2.threshold(img, 0, 255, cv2.THRESH_BINARY + cv2.THRESH_OTSU)[1]\n",
    "    return img"
   ]
  },
  {
   "cell_type": "code",
   "execution_count": 19,
   "metadata": {},
   "outputs": [],
   "source": [
    "def reading_licenseplate(img):\n",
    "    config = ('-l eng --oem 1 --psm 3')\n",
    "    license_number = pytesseract.image_to_string(img, config=config)\n",
    "    return license_number"
   ]
  },
  {
   "cell_type": "code",
   "execution_count": 20,
   "metadata": {},
   "outputs": [],
   "source": [
    "def saving_image(img,name):\n",
    "    cv2.imwrite(name,img)\n",
    "    print('Imaged saved.')\n",
    "    return True"
   ]
  },
  {
   "cell_type": "code",
   "execution_count": 73,
   "metadata": {},
   "outputs": [],
   "source": [
    "def rotation(img):\n",
    "    rows,cols = img.shape\n",
    "    M = cv2.getRotationMatrix2D((cols/2,rows/2),-27,1)  #rotate image by some degree\n",
    "    img = cv2.warpAffine(img,M,(cols,rows))\n",
    "    return img"
   ]
  },
  {
   "cell_type": "code",
   "execution_count": 22,
   "metadata": {},
   "outputs": [],
   "source": [
    "# C:\\Users\\KARAN KALRA\\PycharmProjects\\FirstProject\\Yolo\\alot_number.jpg"
   ]
  },
  {
   "cell_type": "code",
   "execution_count": 81,
   "metadata": {},
   "outputs": [
    {
     "name": "stdout",
     "output_type": "stream",
     "text": [
      "<class 'numpy.ndarray'>\n",
      "30\n",
      "orignal cnts  [[[332 506]]\n",
      "\n",
      " [[328 524]]\n",
      "\n",
      " [[179 527]]\n",
      "\n",
      " [[176 507]]]\n",
      "\\KL 38 F 4004)\n"
     ]
    }
   ],
   "source": [
    "path_of_image = r'G:\\LPR Project\\car images\\number-plate-design-for-38.jpg'\n",
    "license_number = \"\"\n",
    "# try:\n",
    "img = cv2.imread(path_of_image)\n",
    "print(type(img))\n",
    "img = detecting_licenseplate(img)\n",
    "# show_image(img)\n",
    "# show_image(img)\n",
    "# cv2.imwrite('CARRY.jpg',img)\n",
    "img = resize_image(img)\n",
    "img = image_cleaning(img)\n",
    "# img = rotation(img)\n",
    "# show_image(img)\n",
    "license_number = reading_licenseplate(img)\n",
    "# except Exception as err:\n",
    "#     print(err)\n",
    "show_image(img)\n",
    "print(license_number)"
   ]
  },
  {
   "cell_type": "code",
   "execution_count": null,
   "metadata": {},
   "outputs": [],
   "source": [
    "\n"
   ]
  },
  {
   "cell_type": "code",
   "execution_count": null,
   "metadata": {},
   "outputs": [],
   "source": []
  },
  {
   "cell_type": "code",
   "execution_count": null,
   "metadata": {},
   "outputs": [],
   "source": []
  },
  {
   "cell_type": "code",
   "execution_count": null,
   "metadata": {},
   "outputs": [],
   "source": []
  },
  {
   "cell_type": "code",
   "execution_count": null,
   "metadata": {},
   "outputs": [],
   "source": []
  },
  {
   "cell_type": "code",
   "execution_count": null,
   "metadata": {},
   "outputs": [],
   "source": []
  },
  {
   "cell_type": "code",
   "execution_count": null,
   "metadata": {},
   "outputs": [],
   "source": []
  },
  {
   "cell_type": "code",
   "execution_count": null,
   "metadata": {},
   "outputs": [],
   "source": []
  },
  {
   "cell_type": "code",
   "execution_count": null,
   "metadata": {},
   "outputs": [],
   "source": []
  },
  {
   "cell_type": "code",
   "execution_count": null,
   "metadata": {},
   "outputs": [],
   "source": []
  },
  {
   "cell_type": "code",
   "execution_count": null,
   "metadata": {},
   "outputs": [],
   "source": []
  },
  {
   "cell_type": "code",
   "execution_count": null,
   "metadata": {},
   "outputs": [],
   "source": []
  },
  {
   "cell_type": "code",
   "execution_count": null,
   "metadata": {},
   "outputs": [],
   "source": []
  },
  {
   "cell_type": "code",
   "execution_count": null,
   "metadata": {},
   "outputs": [],
   "source": []
  },
  {
   "cell_type": "code",
   "execution_count": null,
   "metadata": {},
   "outputs": [],
   "source": []
  },
  {
   "cell_type": "code",
   "execution_count": null,
   "metadata": {},
   "outputs": [],
   "source": []
  },
  {
   "cell_type": "code",
   "execution_count": null,
   "metadata": {},
   "outputs": [],
   "source": []
  }
 ],
 "metadata": {
  "kernelspec": {
   "display_name": "Python 3",
   "language": "python",
   "name": "python3"
  },
  "language_info": {
   "codemirror_mode": {
    "name": "ipython",
    "version": 3
   },
   "file_extension": ".py",
   "mimetype": "text/x-python",
   "name": "python",
   "nbconvert_exporter": "python",
   "pygments_lexer": "ipython3",
   "version": "3.7.1"
  }
 },
 "nbformat": 4,
 "nbformat_minor": 2
}
